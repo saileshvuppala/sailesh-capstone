{
 "cells": [
  {
   "cell_type": "code",
   "execution_count": 1,
   "metadata": {},
   "outputs": [
    {
     "name": "stdout",
     "output_type": "stream",
     "text": [
      "       Pregnancies  PlasmaGlucose  DiastolicBloodPressure  TricepsThickness  \\\n",
      "1670             1             55                      93                45   \n",
      "13379            0            120                      83                11   \n",
      "10234            2            120                      66                27   \n",
      "4719             4             96                     105                26   \n",
      "7003             2            191                      60                42   \n",
      "...            ...            ...                     ...               ...   \n",
      "10346            3             45                      61                27   \n",
      "8469             3             69                      49                25   \n",
      "12765           10            117                      64                27   \n",
      "9431             5            103                      62                47   \n",
      "4202            10             71                      75                32   \n",
      "\n",
      "       SerumInsulin        BMI  DiabetesPedigree  Age  \n",
      "1670            169  37.061484          0.215198   26  \n",
      "13379           182  20.169893          0.090298   21  \n",
      "10234           242  29.598699          0.502385   21  \n",
      "4719             60  35.633537          0.809689   54  \n",
      "7003             77  46.683840          0.136424   43  \n",
      "...             ...        ...               ...  ...  \n",
      "10346           172  25.880177          0.903274   40  \n",
      "8469            188  32.941730          0.833167   33  \n",
      "12765           265  51.553787          0.773500   55  \n",
      "9431             56  23.548082          0.110910   48  \n",
      "4202            238  43.106466          0.144125   23  \n",
      "\n",
      "[3000 rows x 8 columns]\n",
      "0.7896666666666666\n"
     ]
    }
   ],
   "source": [
    "# Importing the libraries\n",
    "\n",
    "import numpy as n\n",
    "\n",
    "import pandas as p\n",
    "\n",
    "dataset = p.read_csv('C:/Users/91903/Desktop/diabetes.csv')\n",
    "\n",
    "x = dataset.iloc[:, [1,2,3,4,5,6,7,8]]\n",
    "\n",
    "y = dataset.iloc[:, 9]\n",
    "\n",
    "# Splitting the dataset into the Training set and Test set\n",
    "\n",
    "from sklearn.model_selection import train_test_split\n",
    "\n",
    "x_train, x_test, y_train, y_test = train_test_split(x, y, test_size=0.2, random_state=0)\n",
    "\n",
    "print(x_test)\n",
    "\n",
    "# Preprocessing done on the train and test set\n",
    "\n",
    "from sklearn.preprocessing import StandardScaler\n",
    "\n",
    "standardscalar = StandardScaler()\n",
    "\n",
    "x_train = standardscalar.fit_transform(x_train)\n",
    "\n",
    "x_test = standardscalar.transform(x_test)\n",
    "\n",
    "#LDA Classifier\n",
    "\n",
    "from sklearn.discriminant_analysis import LinearDiscriminantAnalysis as LDA\n",
    "\n",
    "lda = LDA()\n",
    "\n",
    "lda.fit(x_train,y_train)\n",
    "\n",
    "y_pred = lda.predict(x_test)\n",
    "\n",
    "print(lda.score(x_test,y_test))"
   ]
  },
  {
   "cell_type": "code",
   "execution_count": null,
   "metadata": {},
   "outputs": [],
   "source": []
  },
  {
   "cell_type": "code",
   "execution_count": null,
   "metadata": {},
   "outputs": [],
   "source": []
  },
  {
   "cell_type": "code",
   "execution_count": null,
   "metadata": {},
   "outputs": [],
   "source": []
  }
 ],
 "metadata": {
  "kernelspec": {
   "display_name": "Python 3",
   "language": "python",
   "name": "python3"
  },
  "language_info": {
   "codemirror_mode": {
    "name": "ipython",
    "version": 3
   },
   "file_extension": ".py",
   "mimetype": "text/x-python",
   "name": "python",
   "nbconvert_exporter": "python",
   "pygments_lexer": "ipython3",
   "version": "3.8.3"
  }
 },
 "nbformat": 4,
 "nbformat_minor": 4
}
