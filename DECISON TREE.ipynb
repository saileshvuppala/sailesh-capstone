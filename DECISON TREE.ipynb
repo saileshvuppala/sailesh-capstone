{
 "cells": [
  {
   "cell_type": "code",
   "execution_count": 1,
   "metadata": {},
   "outputs": [
    {
     "name": "stdout",
     "output_type": "stream",
     "text": [
      "       Pregnancies  PlasmaGlucose  DiastolicBloodPressure  TricepsThickness  \\\n",
      "1670             1             55                      93                45   \n",
      "13379            0            120                      83                11   \n",
      "10234            2            120                      66                27   \n",
      "4719             4             96                     105                26   \n",
      "7003             2            191                      60                42   \n",
      "...            ...            ...                     ...               ...   \n",
      "10346            3             45                      61                27   \n",
      "8469             3             69                      49                25   \n",
      "12765           10            117                      64                27   \n",
      "9431             5            103                      62                47   \n",
      "4202            10             71                      75                32   \n",
      "\n",
      "       SerumInsulin        BMI  DiabetesPedigree  Age  \n",
      "1670            169  37.061484          0.215198   26  \n",
      "13379           182  20.169893          0.090298   21  \n",
      "10234           242  29.598699          0.502385   21  \n",
      "4719             60  35.633537          0.809689   54  \n",
      "7003             77  46.683840          0.136424   43  \n",
      "...             ...        ...               ...  ...  \n",
      "10346           172  25.880177          0.903274   40  \n",
      "8469            188  32.941730          0.833167   33  \n",
      "12765           265  51.553787          0.773500   55  \n",
      "9431             56  23.548082          0.110910   48  \n",
      "4202            238  43.106466          0.144125   23  \n",
      "\n",
      "[3000 rows x 8 columns]\n",
      "[0 0 1 ... 1 1 0]\n",
      "Recall -  0.8507014028056112\n",
      "Accuracy using Decision tree classifier -  0.8993333333333333\n"
     ]
    },
    {
     "name": "stderr",
     "output_type": "stream",
     "text": [
      "C:\\Users\\91903\\anaconda3\\lib\\site-packages\\sklearn\\model_selection\\_split.py:293: FutureWarning: Setting a random_state has no effect since shuffle is False. This will raise an error in 0.24. You should leave random_state to its default (None), or set shuffle=True.\n",
      "  warnings.warn(\n"
     ]
    },
    {
     "name": "stdout",
     "output_type": "stream",
     "text": [
      "Accuracy Using Bagging -  0.9335333333333333\n",
      "Accuracy using AdaBoost -  0.9549333333333333\n"
     ]
    }
   ],
   "source": [
    "# Importing the libraries\n",
    "import pandas as pd\n",
    "# Importing the dataset\n",
    "dataset = pd.read_csv('C:/Users/91903/Desktop/diabetes.csv')\n",
    "X = dataset.iloc[:, [1,2,3,4,5,6,7,8]]\n",
    "y = dataset.iloc[:, 9]\n",
    "feature_cols = ['pregnancies', 'PlasmaGlucose','DiastolicBloodPressure','TricepsThickness','SerumInsulin','BMI','DiabetesPedigree','Age']\n",
    "\n",
    "# Splitting the dataset into the Training set and Test set\n",
    "from sklearn.model_selection import train_test_split\n",
    "X_train, X_test, y_train, y_test = train_test_split(X, y, test_size = 0.2, random_state = 0)\n",
    "\n",
    "# Fitting classifier to the Training set\n",
    "from sklearn.tree import DecisionTreeClassifier\n",
    "classifier = DecisionTreeClassifier(criterion = 'entropy', random_state = 0)\n",
    "classifier.fit(X_train, y_train)\n",
    "\n",
    "# Predicting the Test set results\n",
    "y_pred = classifier.predict(X_test)\n",
    "print(X_test)\n",
    "print(y_pred)\n",
    "\n",
    "# Making the Confusion Matrix\n",
    "from sklearn.metrics import confusion_matrix\n",
    "tn, fp, fn, tp = confusion_matrix(y_test, y_pred).ravel()\n",
    "print (\"Recall - \",tp/(tp+fn))\n",
    "\n",
    "#Accuracy\n",
    "from sklearn.metrics import accuracy_score\n",
    "print(\"Accuracy using Decision tree classifier - \",accuracy_score(y_test,y_pred))\n",
    "\n",
    "# Bagged Decision Trees for Classification\n",
    "from sklearn import model_selection\n",
    "from sklearn.ensemble import BaggingClassifier\n",
    "from sklearn.tree import DecisionTreeClassifier\n",
    "kfold = model_selection.KFold(n_splits=10, random_state=0)\n",
    "cart = DecisionTreeClassifier()\n",
    "model = BaggingClassifier(base_estimator=cart, n_estimators=100, random_state=0)\n",
    "results = model_selection.cross_val_score(model, X, y, cv=kfold)\n",
    "print(\"Accuracy Using Bagging - \",results.mean())\n",
    "\n",
    "#Accuracy using AdaBoost\n",
    "from sklearn.ensemble import AdaBoostClassifier\n",
    "model = AdaBoostClassifier(n_estimators=100, random_state=0)\n",
    "results = model_selection.cross_val_score(model, X, y, cv=kfold)\n",
    "print(\"Accuracy using AdaBoost - \",results.mean())"
   ]
  },
  {
   "cell_type": "code",
   "execution_count": null,
   "metadata": {},
   "outputs": [],
   "source": []
  }
 ],
 "metadata": {
  "kernelspec": {
   "display_name": "Python 3",
   "language": "python",
   "name": "python3"
  },
  "language_info": {
   "codemirror_mode": {
    "name": "ipython",
    "version": 3
   },
   "file_extension": ".py",
   "mimetype": "text/x-python",
   "name": "python",
   "nbconvert_exporter": "python",
   "pygments_lexer": "ipython3",
   "version": "3.8.3"
  }
 },
 "nbformat": 4,
 "nbformat_minor": 4
}
